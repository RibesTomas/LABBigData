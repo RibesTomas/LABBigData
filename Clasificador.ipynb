{
  "nbformat": 4,
  "nbformat_minor": 0,
  "metadata": {
    "colab": {
      "provenance": [],
      "mount_file_id": "1UJuOgr6YqnuIQhVsP9Uto4H6vGWfwV3Z",
      "authorship_tag": "ABX9TyO1RROX0r24RnoK1oqfiKuW",
      "include_colab_link": true
    },
    "kernelspec": {
      "name": "python3",
      "display_name": "Python 3"
    },
    "language_info": {
      "name": "python"
    }
  },
  "cells": [
    {
      "cell_type": "markdown",
      "metadata": {
        "id": "view-in-github",
        "colab_type": "text"
      },
      "source": [
        "<a href=\"https://colab.research.google.com/github/RibesTomas/LABBigData/blob/main/Clasificador.ipynb\" target=\"_parent\"><img src=\"https://colab.research.google.com/assets/colab-badge.svg\" alt=\"Open In Colab\"/></a>"
      ]
    },
    {
      "cell_type": "code",
      "execution_count": 1,
      "metadata": {
        "id": "HLY8SMYpPO7E"
      },
      "outputs": [],
      "source": [
        "#Importe de las librerias\n",
        "import numpy as np\n",
        "import matplotlib.pyplot as plt\n",
        "import seaborn as sns\n",
        "import pandas as pd\n",
        "import plotly.graph_objects as go\n",
        "from sklearn.neighbors import KNeighborsClassifier\n",
        "from sklearn.model_selection import train_test_split\n",
        "from sklearn.metrics import accuracy_score\n",
        "from sklearn.metrics import confusion_matrix, classification_report\n",
        "from sklearn import metrics\n",
        "from matplotlib.colors import ListedColormap\n",
        "from sklearn.metrics import accuracy_score, precision_score, recall_score, f1_score\n",
        "from sklearn.model_selection import KFold\n",
        "from sklearn.model_selection import train_test_split\n",
        "from sklearn.model_selection import cross_val_score\n",
        "from matplotlib import pyplot as plt\n"
      ]
    },
    {
      "cell_type": "markdown",
      "source": [
        "#Leemos el dataframe"
      ],
      "metadata": {
        "id": "XsDW2a_d9AZF"
      }
    },
    {
      "cell_type": "code",
      "source": [
        "df = pd.read_csv('/content/drive/MyDrive/Colab Notebooks/Canciones_Spotify.csv')"
      ],
      "metadata": {
        "id": "ePcWzMYFPRvm"
      },
      "execution_count": 2,
      "outputs": []
    },
    {
      "cell_type": "markdown",
      "source": [
        "#Filtramos un poco el dataframe, dropeamos alginas columnas que no utilizamos"
      ],
      "metadata": {
        "id": "68SQv1f69D3M"
      }
    },
    {
      "cell_type": "markdown",
      "source": [
        "Esto lo decidimos hacer mas que nada para no tener el dataframe tan sobrecargado aunque en realidad no sirve para nada decidimos dejarlo"
      ],
      "metadata": {
        "id": "ORdHPjt0PatL"
      }
    },
    {
      "cell_type": "code",
      "source": [
        "df.reset_index(drop=True, inplace=True)\n",
        "df = df.drop('Unnamed: 0',axis=1)\n",
        "df = df.drop('time_signature',axis=1)\n",
        "df = df.drop('key',axis=1)\n",
        "df = df.drop('mode',axis=1)\n",
        "df = df.drop('duration_ms',axis=1)"
      ],
      "metadata": {
        "id": "STo-c7CDQLPd"
      },
      "execution_count": 3,
      "outputs": []
    },
    {
      "cell_type": "code",
      "source": [
        "df"
      ],
      "metadata": {
        "colab": {
          "base_uri": "https://localhost:8080/",
          "height": 687
        },
        "id": "136Ddyn5nTQ6",
        "outputId": "87ce1442-ccc9-4842-a3a3-c67d29f3ee48"
      },
      "execution_count": 4,
      "outputs": [
        {
          "output_type": "execute_result",
          "data": {
            "text/plain": [
              "      acousticness  danceability  energy  instrumentalness  liveness  \\\n",
              "0          0.01020         0.833   0.434          0.021900    0.1650   \n",
              "1          0.19900         0.743   0.359          0.006110    0.1370   \n",
              "2          0.03440         0.838   0.412          0.000234    0.1590   \n",
              "3          0.60400         0.494   0.338          0.510000    0.0922   \n",
              "4          0.18000         0.678   0.561          0.512000    0.4390   \n",
              "...            ...           ...     ...               ...       ...   \n",
              "2012       0.00106         0.584   0.932          0.002690    0.1290   \n",
              "2013       0.08770         0.894   0.892          0.001670    0.0528   \n",
              "2014       0.00857         0.637   0.935          0.003990    0.2140   \n",
              "2015       0.00164         0.557   0.992          0.677000    0.0913   \n",
              "2016       0.00281         0.446   0.915          0.000039    0.2180   \n",
              "\n",
              "      loudness  speechiness    tempo  valence  target  \\\n",
              "0       -8.795       0.4310  150.062    0.286       1   \n",
              "1      -10.401       0.0794  160.083    0.588       1   \n",
              "2       -7.148       0.2890   75.044    0.173       1   \n",
              "3      -15.236       0.0261   86.468    0.230       1   \n",
              "4      -11.648       0.0694  174.004    0.904       1   \n",
              "...        ...          ...      ...      ...     ...   \n",
              "2012    -3.501       0.3330   74.976    0.211       0   \n",
              "2013    -2.663       0.1310  110.041    0.867       0   \n",
              "2014    -2.467       0.1070  150.082    0.470       0   \n",
              "2015    -2.735       0.1330  150.011    0.623       0   \n",
              "2016    -6.221       0.1410  190.013    0.402       0   \n",
              "\n",
              "                                song_title            artist  \n",
              "0                                 Mask Off            Future  \n",
              "1                                  Redbone  Childish Gambino  \n",
              "2                             Xanny Family            Future  \n",
              "3                           Master Of None       Beach House  \n",
              "4                           Parallel Lines       Junior Boys  \n",
              "...                                    ...               ...  \n",
              "2012   Like A Bitch - Kill The Noise Remix    Kill The Noise  \n",
              "2013                                 Candy    Dillon Francis  \n",
              "2014  Habit - Dack Janiels & Wenzday Remix          Rain Man  \n",
              "2015                         First Contact        Twin Moons  \n",
              "2016                    I Wanna Get Better         Bleachers  \n",
              "\n",
              "[2017 rows x 12 columns]"
            ],
            "text/html": [
              "\n",
              "  <div id=\"df-a9609bea-af20-4169-9cbd-73b2615b26e3\" class=\"colab-df-container\">\n",
              "    <div>\n",
              "<style scoped>\n",
              "    .dataframe tbody tr th:only-of-type {\n",
              "        vertical-align: middle;\n",
              "    }\n",
              "\n",
              "    .dataframe tbody tr th {\n",
              "        vertical-align: top;\n",
              "    }\n",
              "\n",
              "    .dataframe thead th {\n",
              "        text-align: right;\n",
              "    }\n",
              "</style>\n",
              "<table border=\"1\" class=\"dataframe\">\n",
              "  <thead>\n",
              "    <tr style=\"text-align: right;\">\n",
              "      <th></th>\n",
              "      <th>acousticness</th>\n",
              "      <th>danceability</th>\n",
              "      <th>energy</th>\n",
              "      <th>instrumentalness</th>\n",
              "      <th>liveness</th>\n",
              "      <th>loudness</th>\n",
              "      <th>speechiness</th>\n",
              "      <th>tempo</th>\n",
              "      <th>valence</th>\n",
              "      <th>target</th>\n",
              "      <th>song_title</th>\n",
              "      <th>artist</th>\n",
              "    </tr>\n",
              "  </thead>\n",
              "  <tbody>\n",
              "    <tr>\n",
              "      <th>0</th>\n",
              "      <td>0.01020</td>\n",
              "      <td>0.833</td>\n",
              "      <td>0.434</td>\n",
              "      <td>0.021900</td>\n",
              "      <td>0.1650</td>\n",
              "      <td>-8.795</td>\n",
              "      <td>0.4310</td>\n",
              "      <td>150.062</td>\n",
              "      <td>0.286</td>\n",
              "      <td>1</td>\n",
              "      <td>Mask Off</td>\n",
              "      <td>Future</td>\n",
              "    </tr>\n",
              "    <tr>\n",
              "      <th>1</th>\n",
              "      <td>0.19900</td>\n",
              "      <td>0.743</td>\n",
              "      <td>0.359</td>\n",
              "      <td>0.006110</td>\n",
              "      <td>0.1370</td>\n",
              "      <td>-10.401</td>\n",
              "      <td>0.0794</td>\n",
              "      <td>160.083</td>\n",
              "      <td>0.588</td>\n",
              "      <td>1</td>\n",
              "      <td>Redbone</td>\n",
              "      <td>Childish Gambino</td>\n",
              "    </tr>\n",
              "    <tr>\n",
              "      <th>2</th>\n",
              "      <td>0.03440</td>\n",
              "      <td>0.838</td>\n",
              "      <td>0.412</td>\n",
              "      <td>0.000234</td>\n",
              "      <td>0.1590</td>\n",
              "      <td>-7.148</td>\n",
              "      <td>0.2890</td>\n",
              "      <td>75.044</td>\n",
              "      <td>0.173</td>\n",
              "      <td>1</td>\n",
              "      <td>Xanny Family</td>\n",
              "      <td>Future</td>\n",
              "    </tr>\n",
              "    <tr>\n",
              "      <th>3</th>\n",
              "      <td>0.60400</td>\n",
              "      <td>0.494</td>\n",
              "      <td>0.338</td>\n",
              "      <td>0.510000</td>\n",
              "      <td>0.0922</td>\n",
              "      <td>-15.236</td>\n",
              "      <td>0.0261</td>\n",
              "      <td>86.468</td>\n",
              "      <td>0.230</td>\n",
              "      <td>1</td>\n",
              "      <td>Master Of None</td>\n",
              "      <td>Beach House</td>\n",
              "    </tr>\n",
              "    <tr>\n",
              "      <th>4</th>\n",
              "      <td>0.18000</td>\n",
              "      <td>0.678</td>\n",
              "      <td>0.561</td>\n",
              "      <td>0.512000</td>\n",
              "      <td>0.4390</td>\n",
              "      <td>-11.648</td>\n",
              "      <td>0.0694</td>\n",
              "      <td>174.004</td>\n",
              "      <td>0.904</td>\n",
              "      <td>1</td>\n",
              "      <td>Parallel Lines</td>\n",
              "      <td>Junior Boys</td>\n",
              "    </tr>\n",
              "    <tr>\n",
              "      <th>...</th>\n",
              "      <td>...</td>\n",
              "      <td>...</td>\n",
              "      <td>...</td>\n",
              "      <td>...</td>\n",
              "      <td>...</td>\n",
              "      <td>...</td>\n",
              "      <td>...</td>\n",
              "      <td>...</td>\n",
              "      <td>...</td>\n",
              "      <td>...</td>\n",
              "      <td>...</td>\n",
              "      <td>...</td>\n",
              "    </tr>\n",
              "    <tr>\n",
              "      <th>2012</th>\n",
              "      <td>0.00106</td>\n",
              "      <td>0.584</td>\n",
              "      <td>0.932</td>\n",
              "      <td>0.002690</td>\n",
              "      <td>0.1290</td>\n",
              "      <td>-3.501</td>\n",
              "      <td>0.3330</td>\n",
              "      <td>74.976</td>\n",
              "      <td>0.211</td>\n",
              "      <td>0</td>\n",
              "      <td>Like A Bitch - Kill The Noise Remix</td>\n",
              "      <td>Kill The Noise</td>\n",
              "    </tr>\n",
              "    <tr>\n",
              "      <th>2013</th>\n",
              "      <td>0.08770</td>\n",
              "      <td>0.894</td>\n",
              "      <td>0.892</td>\n",
              "      <td>0.001670</td>\n",
              "      <td>0.0528</td>\n",
              "      <td>-2.663</td>\n",
              "      <td>0.1310</td>\n",
              "      <td>110.041</td>\n",
              "      <td>0.867</td>\n",
              "      <td>0</td>\n",
              "      <td>Candy</td>\n",
              "      <td>Dillon Francis</td>\n",
              "    </tr>\n",
              "    <tr>\n",
              "      <th>2014</th>\n",
              "      <td>0.00857</td>\n",
              "      <td>0.637</td>\n",
              "      <td>0.935</td>\n",
              "      <td>0.003990</td>\n",
              "      <td>0.2140</td>\n",
              "      <td>-2.467</td>\n",
              "      <td>0.1070</td>\n",
              "      <td>150.082</td>\n",
              "      <td>0.470</td>\n",
              "      <td>0</td>\n",
              "      <td>Habit - Dack Janiels &amp; Wenzday Remix</td>\n",
              "      <td>Rain Man</td>\n",
              "    </tr>\n",
              "    <tr>\n",
              "      <th>2015</th>\n",
              "      <td>0.00164</td>\n",
              "      <td>0.557</td>\n",
              "      <td>0.992</td>\n",
              "      <td>0.677000</td>\n",
              "      <td>0.0913</td>\n",
              "      <td>-2.735</td>\n",
              "      <td>0.1330</td>\n",
              "      <td>150.011</td>\n",
              "      <td>0.623</td>\n",
              "      <td>0</td>\n",
              "      <td>First Contact</td>\n",
              "      <td>Twin Moons</td>\n",
              "    </tr>\n",
              "    <tr>\n",
              "      <th>2016</th>\n",
              "      <td>0.00281</td>\n",
              "      <td>0.446</td>\n",
              "      <td>0.915</td>\n",
              "      <td>0.000039</td>\n",
              "      <td>0.2180</td>\n",
              "      <td>-6.221</td>\n",
              "      <td>0.1410</td>\n",
              "      <td>190.013</td>\n",
              "      <td>0.402</td>\n",
              "      <td>0</td>\n",
              "      <td>I Wanna Get Better</td>\n",
              "      <td>Bleachers</td>\n",
              "    </tr>\n",
              "  </tbody>\n",
              "</table>\n",
              "<p>2017 rows × 12 columns</p>\n",
              "</div>\n",
              "    <div class=\"colab-df-buttons\">\n",
              "\n",
              "  <div class=\"colab-df-container\">\n",
              "    <button class=\"colab-df-convert\" onclick=\"convertToInteractive('df-a9609bea-af20-4169-9cbd-73b2615b26e3')\"\n",
              "            title=\"Convert this dataframe to an interactive table.\"\n",
              "            style=\"display:none;\">\n",
              "\n",
              "  <svg xmlns=\"http://www.w3.org/2000/svg\" height=\"24px\" viewBox=\"0 -960 960 960\">\n",
              "    <path d=\"M120-120v-720h720v720H120Zm60-500h600v-160H180v160Zm220 220h160v-160H400v160Zm0 220h160v-160H400v160ZM180-400h160v-160H180v160Zm440 0h160v-160H620v160ZM180-180h160v-160H180v160Zm440 0h160v-160H620v160Z\"/>\n",
              "  </svg>\n",
              "    </button>\n",
              "\n",
              "  <style>\n",
              "    .colab-df-container {\n",
              "      display:flex;\n",
              "      gap: 12px;\n",
              "    }\n",
              "\n",
              "    .colab-df-convert {\n",
              "      background-color: #E8F0FE;\n",
              "      border: none;\n",
              "      border-radius: 50%;\n",
              "      cursor: pointer;\n",
              "      display: none;\n",
              "      fill: #1967D2;\n",
              "      height: 32px;\n",
              "      padding: 0 0 0 0;\n",
              "      width: 32px;\n",
              "    }\n",
              "\n",
              "    .colab-df-convert:hover {\n",
              "      background-color: #E2EBFA;\n",
              "      box-shadow: 0px 1px 2px rgba(60, 64, 67, 0.3), 0px 1px 3px 1px rgba(60, 64, 67, 0.15);\n",
              "      fill: #174EA6;\n",
              "    }\n",
              "\n",
              "    .colab-df-buttons div {\n",
              "      margin-bottom: 4px;\n",
              "    }\n",
              "\n",
              "    [theme=dark] .colab-df-convert {\n",
              "      background-color: #3B4455;\n",
              "      fill: #D2E3FC;\n",
              "    }\n",
              "\n",
              "    [theme=dark] .colab-df-convert:hover {\n",
              "      background-color: #434B5C;\n",
              "      box-shadow: 0px 1px 3px 1px rgba(0, 0, 0, 0.15);\n",
              "      filter: drop-shadow(0px 1px 2px rgba(0, 0, 0, 0.3));\n",
              "      fill: #FFFFFF;\n",
              "    }\n",
              "  </style>\n",
              "\n",
              "    <script>\n",
              "      const buttonEl =\n",
              "        document.querySelector('#df-a9609bea-af20-4169-9cbd-73b2615b26e3 button.colab-df-convert');\n",
              "      buttonEl.style.display =\n",
              "        google.colab.kernel.accessAllowed ? 'block' : 'none';\n",
              "\n",
              "      async function convertToInteractive(key) {\n",
              "        const element = document.querySelector('#df-a9609bea-af20-4169-9cbd-73b2615b26e3');\n",
              "        const dataTable =\n",
              "          await google.colab.kernel.invokeFunction('convertToInteractive',\n",
              "                                                    [key], {});\n",
              "        if (!dataTable) return;\n",
              "\n",
              "        const docLinkHtml = 'Like what you see? Visit the ' +\n",
              "          '<a target=\"_blank\" href=https://colab.research.google.com/notebooks/data_table.ipynb>data table notebook</a>'\n",
              "          + ' to learn more about interactive tables.';\n",
              "        element.innerHTML = '';\n",
              "        dataTable['output_type'] = 'display_data';\n",
              "        await google.colab.output.renderOutput(dataTable, element);\n",
              "        const docLink = document.createElement('div');\n",
              "        docLink.innerHTML = docLinkHtml;\n",
              "        element.appendChild(docLink);\n",
              "      }\n",
              "    </script>\n",
              "  </div>\n",
              "\n",
              "\n",
              "<div id=\"df-6cc8d575-66bf-496a-9598-dc2452a6c370\">\n",
              "  <button class=\"colab-df-quickchart\" onclick=\"quickchart('df-6cc8d575-66bf-496a-9598-dc2452a6c370')\"\n",
              "            title=\"Suggest charts.\"\n",
              "            style=\"display:none;\">\n",
              "\n",
              "<svg xmlns=\"http://www.w3.org/2000/svg\" height=\"24px\"viewBox=\"0 0 24 24\"\n",
              "     width=\"24px\">\n",
              "    <g>\n",
              "        <path d=\"M19 3H5c-1.1 0-2 .9-2 2v14c0 1.1.9 2 2 2h14c1.1 0 2-.9 2-2V5c0-1.1-.9-2-2-2zM9 17H7v-7h2v7zm4 0h-2V7h2v10zm4 0h-2v-4h2v4z\"/>\n",
              "    </g>\n",
              "</svg>\n",
              "  </button>\n",
              "\n",
              "<style>\n",
              "  .colab-df-quickchart {\n",
              "      --bg-color: #E8F0FE;\n",
              "      --fill-color: #1967D2;\n",
              "      --hover-bg-color: #E2EBFA;\n",
              "      --hover-fill-color: #174EA6;\n",
              "      --disabled-fill-color: #AAA;\n",
              "      --disabled-bg-color: #DDD;\n",
              "  }\n",
              "\n",
              "  [theme=dark] .colab-df-quickchart {\n",
              "      --bg-color: #3B4455;\n",
              "      --fill-color: #D2E3FC;\n",
              "      --hover-bg-color: #434B5C;\n",
              "      --hover-fill-color: #FFFFFF;\n",
              "      --disabled-bg-color: #3B4455;\n",
              "      --disabled-fill-color: #666;\n",
              "  }\n",
              "\n",
              "  .colab-df-quickchart {\n",
              "    background-color: var(--bg-color);\n",
              "    border: none;\n",
              "    border-radius: 50%;\n",
              "    cursor: pointer;\n",
              "    display: none;\n",
              "    fill: var(--fill-color);\n",
              "    height: 32px;\n",
              "    padding: 0;\n",
              "    width: 32px;\n",
              "  }\n",
              "\n",
              "  .colab-df-quickchart:hover {\n",
              "    background-color: var(--hover-bg-color);\n",
              "    box-shadow: 0 1px 2px rgba(60, 64, 67, 0.3), 0 1px 3px 1px rgba(60, 64, 67, 0.15);\n",
              "    fill: var(--button-hover-fill-color);\n",
              "  }\n",
              "\n",
              "  .colab-df-quickchart-complete:disabled,\n",
              "  .colab-df-quickchart-complete:disabled:hover {\n",
              "    background-color: var(--disabled-bg-color);\n",
              "    fill: var(--disabled-fill-color);\n",
              "    box-shadow: none;\n",
              "  }\n",
              "\n",
              "  .colab-df-spinner {\n",
              "    border: 2px solid var(--fill-color);\n",
              "    border-color: transparent;\n",
              "    border-bottom-color: var(--fill-color);\n",
              "    animation:\n",
              "      spin 1s steps(1) infinite;\n",
              "  }\n",
              "\n",
              "  @keyframes spin {\n",
              "    0% {\n",
              "      border-color: transparent;\n",
              "      border-bottom-color: var(--fill-color);\n",
              "      border-left-color: var(--fill-color);\n",
              "    }\n",
              "    20% {\n",
              "      border-color: transparent;\n",
              "      border-left-color: var(--fill-color);\n",
              "      border-top-color: var(--fill-color);\n",
              "    }\n",
              "    30% {\n",
              "      border-color: transparent;\n",
              "      border-left-color: var(--fill-color);\n",
              "      border-top-color: var(--fill-color);\n",
              "      border-right-color: var(--fill-color);\n",
              "    }\n",
              "    40% {\n",
              "      border-color: transparent;\n",
              "      border-right-color: var(--fill-color);\n",
              "      border-top-color: var(--fill-color);\n",
              "    }\n",
              "    60% {\n",
              "      border-color: transparent;\n",
              "      border-right-color: var(--fill-color);\n",
              "    }\n",
              "    80% {\n",
              "      border-color: transparent;\n",
              "      border-right-color: var(--fill-color);\n",
              "      border-bottom-color: var(--fill-color);\n",
              "    }\n",
              "    90% {\n",
              "      border-color: transparent;\n",
              "      border-bottom-color: var(--fill-color);\n",
              "    }\n",
              "  }\n",
              "</style>\n",
              "\n",
              "  <script>\n",
              "    async function quickchart(key) {\n",
              "      const quickchartButtonEl =\n",
              "        document.querySelector('#' + key + ' button');\n",
              "      quickchartButtonEl.disabled = true;  // To prevent multiple clicks.\n",
              "      quickchartButtonEl.classList.add('colab-df-spinner');\n",
              "      try {\n",
              "        const charts = await google.colab.kernel.invokeFunction(\n",
              "            'suggestCharts', [key], {});\n",
              "      } catch (error) {\n",
              "        console.error('Error during call to suggestCharts:', error);\n",
              "      }\n",
              "      quickchartButtonEl.classList.remove('colab-df-spinner');\n",
              "      quickchartButtonEl.classList.add('colab-df-quickchart-complete');\n",
              "    }\n",
              "    (() => {\n",
              "      let quickchartButtonEl =\n",
              "        document.querySelector('#df-6cc8d575-66bf-496a-9598-dc2452a6c370 button');\n",
              "      quickchartButtonEl.style.display =\n",
              "        google.colab.kernel.accessAllowed ? 'block' : 'none';\n",
              "    })();\n",
              "  </script>\n",
              "</div>\n",
              "    </div>\n",
              "  </div>\n"
            ]
          },
          "metadata": {},
          "execution_count": 4
        }
      ]
    },
    {
      "cell_type": "markdown",
      "source": [
        "Definimos variables X e Y donde X tomaria valores del dataframe los cuales serian interesantes a evaluar e Y tendria los valores del target los cuales representan si les gusta o no al usuario las cancioles"
      ],
      "metadata": {
        "id": "0mqRVZmV7DGw"
      }
    },
    {
      "cell_type": "markdown",
      "source": [
        "En un principio nos costo mucho decidir que atributos utilizar en X y solo usabamos dos hasta que al testear mas adelante con otro modelo nos dimos cuenta que podiamos agregar mas atributos y fuimos refinando mas el modelo"
      ],
      "metadata": {
        "id": "55RadAcGPmlb"
      }
    },
    {
      "cell_type": "code",
      "source": [
        "X= df[[\"danceability\", \"speechiness\", \"energy\",\"acousticness\", \"instrumentalness\"]].to_numpy() #\"acousticness\", \"danceability\", \"energy\", \"instrumentalness\", \"liveness\", \"loudness\", \"speechiness\", \"tempo\", \"valence\"\n",
        "y= df[['target']].to_numpy()\n",
        "\n",
        "X_train, X_test, y_train, y_test= train_test_split(X, y, test_size= 0.6, random_state=53) #Se hace un split de los valores"
      ],
      "metadata": {
        "id": "jTp54N-QcccT"
      },
      "execution_count": 5,
      "outputs": []
    },
    {
      "cell_type": "markdown",
      "source": [
        "Se define el clasificador KNN"
      ],
      "metadata": {
        "id": "zx3AKYtF7epi"
      }
    },
    {
      "cell_type": "code",
      "source": [
        "clasificadorKNN = KNeighborsClassifier(n_neighbors=90)\n",
        "\n",
        "\n",
        "clasificadorKNN = clasificadorKNN.fit(X_train, y_train.ravel())"
      ],
      "metadata": {
        "id": "szOQchaEclk0"
      },
      "execution_count": 6,
      "outputs": []
    },
    {
      "cell_type": "code",
      "source": [
        "def generate_clf_KNN(k, X_train, y_train):\n",
        "    clasificadorKNN = KNeighborsClassifier(n_neighbors=k)\n",
        "    clasificadorKNN.fit(X_train, y_train.ravel())\n",
        "    return clasificadorKNN"
      ],
      "metadata": {
        "id": "9rcWh_aCcsQL"
      },
      "execution_count": 7,
      "outputs": []
    },
    {
      "cell_type": "code",
      "source": [
        "clasificadorKNN2 = generate_clf_KNN(90,X_train, y_train)\n",
        "\n",
        "y_predKNN = clasificadorKNN2.predict(X_test)\n",
        "\n",
        "\n",
        "\n",
        "\n",
        "c = confusion_matrix(y_test, y_predKNN)\n",
        "\n",
        "\n",
        "plt.figure(figsize=(7,5))\n",
        "sns.heatmap(c, annot=True, fmt='g', xticklabels=['Clase 0', 'Clase 1'], yticklabels=['Clase 0', 'Clase 1'])\n",
        "plt.xlabel('Etiqueta predicha')\n",
        "plt.ylabel('Etiqueta verdadera')\n",
        "plt.title('Matriz de Confusión KNN')\n",
        "plt.show()"
      ],
      "metadata": {
        "colab": {
          "base_uri": "https://localhost:8080/",
          "height": 487
        },
        "id": "XP6fRtHDcutL",
        "outputId": "a7ad4bc8-4b13-4f03-bf24-12138faf0079"
      },
      "execution_count": 8,
      "outputs": [
        {
          "output_type": "display_data",
          "data": {
            "text/plain": [
              "<Figure size 700x500 with 2 Axes>"
            ],
            "image/png": "[encoded data removed]"
          },
          "metadata": {}
        }
      ]
    },
    {
      "cell_type": "code",
      "source": [
        "#knn = KNeighborsClassifier(n_neighbors=55)\n",
        "\n",
        "\n",
        "scores = cross_val_score(clasificadorKNN, X, y.ravel(), cv=90) #Se realiza validacion cruzada dondo mas abajo se muetran los scores, algunos son bantante altos, llegando a 0,9 pero otros bastante bajos, por lo que queda una media alrededor de 0,6\n",
        "f1 = f1_score(y_test, y_predKNN)\n",
        "recall = recall_score(y_test, y_predKNN)\n",
        "\n",
        "print(\"Scores de validación cruzada:\", scores)\n",
        "print(\"Media de los scores:\", scores.mean())\n",
        "print(\"Desviación estándar de los scores:\", scores.std())\n",
        "print(\"Score de F1:\", f1)\n",
        "print(\"Recall score:\", recall)"
      ],
      "metadata": {
        "colab": {
          "base_uri": "https://localhost:8080/"
        },
        "id": "03WKfWOxdOrz",
        "outputId": "ea01ea62-533a-4ec7-e6d5-0759bd6f1b91"
      },
      "execution_count": 9,
      "outputs": [
        {
          "output_type": "stream",
          "name": "stdout",
          "text": [
            "Scores de validación cruzada: [0.82608696 0.69565217 0.82608696 0.86956522 0.73913043 0.7826087\n",
            " 0.56521739 0.69565217 0.56521739 0.65217391 0.60869565 0.65217391\n",
            " 0.69565217 0.73913043 0.56521739 0.56521739 0.52173913 0.52173913\n",
            " 0.60869565 0.65217391 0.73913043 0.60869565 0.73913043 0.82608696\n",
            " 0.65217391 0.52173913 0.60869565 0.52173913 0.56521739 0.47826087\n",
            " 0.69565217 0.69565217 0.69565217 0.73913043 0.73913043 0.47826087\n",
            " 0.47826087 0.27272727 0.68181818 0.86363636 0.59090909 0.59090909\n",
            " 0.5        0.54545455 0.81818182 0.77272727 0.77272727 0.81818182\n",
            " 0.72727273 0.77272727 0.77272727 0.90909091 0.72727273 0.59090909\n",
            " 0.5        0.68181818 0.77272727 0.77272727 0.59090909 0.54545455\n",
            " 0.81818182 0.72727273 0.68181818 0.54545455 0.59090909 0.59090909\n",
            " 0.59090909 0.68181818 0.54545455 0.72727273 0.40909091 0.77272727\n",
            " 0.68181818 0.68181818 0.81818182 0.59090909 0.77272727 0.68181818\n",
            " 0.81818182 0.68181818 0.81818182 0.59090909 0.77272727 0.77272727\n",
            " 0.5        0.54545455 0.40909091 0.77272727 0.77272727 0.86363636]\n",
            "Media de los scores: 0.6660957400087835\n",
            "Desviación estándar de los scores: 0.1222732776098032\n",
            "Score de F1: 0.6044703595724004\n",
            "Recall score: 0.5289115646258503\n"
          ]
        }
      ]
    },
    {
      "cell_type": "markdown",
      "source": [
        "#Modelo de aprendizaje SVM"
      ],
      "metadata": {
        "id": "juCLG9tpBuFa"
      }
    },
    {
      "cell_type": "code",
      "source": [
        "def plot_decision_boundary(clf, X, y, ax, title):\n",
        "\n",
        "    h = .02\n",
        "    x_min, x_max = X[:, 0].min() - 1, X[:, 0].max() + 1\n",
        "    y_min, y_max = X[:, 1].min() - 1, X[:, 1].max() + 1\n",
        "    xx, yy = np.meshgrid(np.arange(x_min, x_max, h), np.arange(y_min, y_max, h))\n",
        "    Z = clf.predict(np.c_[xx.ravel(), yy.ravel()])\n",
        "    Z = Z.reshape(xx.shape)\n",
        "    ax.contourf(xx, yy, Z, alpha=0.8)\n",
        "    ax.scatter(X[:, 0], X[:, 1], c=y, edgecolors='k', marker='o', s=50)\n",
        "    ax.set_title(title)"
      ],
      "metadata": {
        "id": "U4fmYICNo1Zd"
      },
      "execution_count": 10,
      "outputs": []
    },
    {
      "cell_type": "markdown",
      "source": [
        "Para este modelo y los siguientes decidimos utilizar los mismos atrributos debido a que decidimos que eran los mas importantes"
      ],
      "metadata": {
        "id": "PqmWyg_VQCNK"
      }
    },
    {
      "cell_type": "markdown",
      "source": [
        "Fuimos probando con los distintos kernel, C y gamma para intentar alcanzar el mejor accuracy posible, tambien fuimos probando con el gridseach y randomsearch para alcanzar los mejores valores"
      ],
      "metadata": {
        "id": "wrY-PlKDQQzl"
      }
    },
    {
      "cell_type": "markdown",
      "source": [
        "A la hora de testear con gammas altos la prediccion de poly mejora a estar a la par que con la de rbf con el gamma en default pero llegaba a tener un tiempo de ejecución bastante alto llegando a ser casi interminable"
      ],
      "metadata": {
        "id": "46yA6vHfQwQq"
      }
    },
    {
      "cell_type": "code",
      "source": [
        "X= df[[\"danceability\", \"speechiness\", \"energy\",\"acousticness\", \"instrumentalness\"]].values #\"acousticness\", \"danceability\", \"energy\", \"instrumentalness\", \"liveness\", \"loudness\", \"speechiness\", \"tempo\", \"valence\"\n",
        "y= df.target\n",
        "\n",
        "#Trabajamos con los mismos datos que el modelo anterior ya que fueron los que cosideramos mas importantes\n",
        "\n",
        "X_train, X_test, y_train, y_test= train_test_split(X, y, test_size= 0.6, random_state=53) #Se hace un split de los valores\n",
        "from sklearn.svm import SVC\n",
        "from sklearn.metrics import accuracy_score\n",
        "\n",
        "\n",
        "kernels = [\"linear\", \"rbf\", \"poly\"]\n",
        "#kernels = ['rbf']\n",
        "for kernel in kernels: #Analizamos ajustando para ver kis scires\n",
        "    #Probamos con los kernels, tanto como los 3 vistos en clase como con sigmoid y precomputed ademas de ir ajustando el C, los cuales sacamos debido al bajo score\n",
        "    model = SVC(kernel=kernel, C = 90) #Decidimos dejar el gamma en default debido a que empeoraba la prediccion al cambiarlo y en caso del poly mejoraba un poco al aumentar el gamma pera tomaba tiempos de ejecucion interminables\n",
        "    model.fit(X_train, y_train)\n",
        "    predSVC = model.predict(X_test)\n",
        "    f1 = f1_score(y_test, predSVC)\n",
        "    recall = recall_score(y_test, predSVC)\n",
        "    print(\"Accuracy using {}:\".format(kernel), accuracy_score(predSVC, y_test)) #Con los ajustes que fuimos asientdo descubrimos que el rbf era el mejor para nuestro caso\n",
        "    print(\"Score de F1:\", f1)\n",
        "    print(\"Recall score:\", recall)"
      ],
      "metadata": {
        "colab": {
          "base_uri": "https://localhost:8080/"
        },
        "id": "F-tTg2j_m5Kf",
        "outputId": "3023eede-361c-483e-96e3-dbd008edddcd"
      },
      "execution_count": 11,
      "outputs": [
        {
          "output_type": "stream",
          "name": "stdout",
          "text": [
            "Accuracy using linear: 0.6399669694467383\n",
            "Score de F1: 0.6079136690647482\n",
            "Recall score: 0.5748299319727891\n",
            "Accuracy using rbf: 0.7101568951279934\n",
            "Score de F1: 0.6852017937219732\n",
            "Recall score: 0.6496598639455783\n",
            "Accuracy using poly: 0.6878612716763006\n",
            "Score de F1: 0.638623326959847\n",
            "Recall score: 0.5680272108843537\n"
          ]
        }
      ]
    },
    {
      "cell_type": "markdown",
      "source": [
        "La matriz la imprimimos con RBF debido a que es el kernel con el cual mejor desempeño se tuvo"
      ],
      "metadata": {
        "id": "wvRVf_KNQpw1"
      }
    },
    {
      "cell_type": "code",
      "source": [
        "model = SVC(kernel=\"rbf\", C = 90)\n",
        "model.fit(X_train, y_train)\n",
        "predSVC = model.predict(X_test)\n",
        "\n",
        "\n",
        "c = confusion_matrix(y_test, predSVC)\n",
        "\n",
        "\n",
        "plt.figure(figsize=(7,5))\n",
        "sns.heatmap(c, annot=True, fmt='g', xticklabels=['Clase 0', 'Clase 1'], yticklabels=['Clase 0', 'Clase 1'])\n",
        "plt.xlabel('Etiqueta predicha')\n",
        "plt.ylabel('Etiqueta verdadera')\n",
        "plt.title('Matriz de Confusión SVM')\n",
        "plt.show()"
      ],
      "metadata": {
        "colab": {
          "base_uri": "https://localhost:8080/",
          "height": 487
        },
        "id": "hhGi566aCEmz",
        "outputId": "e21463ad-3aac-4f3d-f939-366d75f37ca8"
      },
      "execution_count": 12,
      "outputs": [
        {
          "output_type": "display_data",
          "data": {
            "text/plain": [
              "<Figure size 700x500 with 2 Axes>"
            ],
            "image/png": "[encoded data removed]"
          },
          "metadata": {}
        }
      ]
    },
    {
      "cell_type": "markdown",
      "source": [
        "#Gridsearch"
      ],
      "metadata": {
        "id": "no7UJ0hRVe2b"
      }
    },
    {
      "cell_type": "markdown",
      "source": [
        "Probamos el grid search visto en clase con distintos parametros los cuales creimos interesantes"
      ],
      "metadata": {
        "id": "rhrgb99uUX6r"
      }
    },
    {
      "cell_type": "markdown",
      "source": [
        "No probamos con gammas mas altos debido a su alto tiempo de ejecución"
      ],
      "metadata": {
        "id": "C4l0AARfUltC"
      }
    },
    {
      "cell_type": "code",
      "source": [
        "from sklearn.model_selection import GridSearchCV\n",
        "\n",
        "parameters = {'kernel': ['linear', 'rbf'], 'C': [0.1, 1, 10, 20, 30, 50, 90], 'gamma': [\"auto\", \"scale\",0.1, 1, 10]}\n",
        "svc = SVC()\n",
        "clf = GridSearchCV(svc, parameters, scoring='f1_macro') #Usamos el randomsearch para ver cual decide como los mejores parametros\n",
        "clf.fit(X_train, y_train)\n",
        "\n",
        "print(\"Mejores parámetros:\", clf.best_params_)\n",
        "\n",
        "print(\"Mejor score:\", clf.best_score_)"
      ],
      "metadata": {
        "colab": {
          "base_uri": "https://localhost:8080/"
        },
        "id": "lbMo4PzGUtPV",
        "outputId": "c36b7a66-af1c-48d9-e9f4-5663b6ba862b"
      },
      "execution_count": 13,
      "outputs": [
        {
          "output_type": "stream",
          "name": "stdout",
          "text": [
            "Mejores parámetros: {'C': 90, 'gamma': 'scale', 'kernel': 'rbf'}\n",
            "Mejor score: 0.7068411242774385\n"
          ]
        }
      ]
    },
    {
      "cell_type": "markdown",
      "source": [
        "#Randomsearch"
      ],
      "metadata": {
        "id": "ph8zDQnPZy7B"
      }
    },
    {
      "cell_type": "markdown",
      "source": [
        "El random search encuentra como C optimo varios valores, con cada ejecución suele mostrar valores distintos, los cuales algunos se repiten, nosotros probamos y concluimos que dependiendo el caso un kernel es mejor que el otro pero ambos son bastante altos a la hora de predecir"
      ],
      "metadata": {
        "id": "gRANWVNXX_la"
      }
    },
    {
      "cell_type": "markdown",
      "source": [
        "En cuanto al gamma generalmente nos dice que el mejor gamma es scale aunque hay ocaciones en las cuales retorna valores distintos"
      ],
      "metadata": {
        "id": "zrq-aUMmYHcl"
      }
    },
    {
      "cell_type": "code",
      "source": [
        "from sklearn.linear_model import LogisticRegression\n",
        "from sklearn.model_selection import RandomizedSearchCV\n",
        "from scipy.stats import uniform\n",
        "\n",
        "model = SVC()\n",
        "\n",
        "# Definir el espacio de búsqueda de hiperparámetros específico para SVM\n",
        "parameters = {\n",
        "    'C': [0.1, 1, 10, 20, 30, 50, 90],\n",
        "    'kernel': ['linear', 'rbf'],\n",
        "    'gamma': ['scale', 'auto'] + list(np.logspace(-3, 3, 7))\n",
        "}\n",
        "clf = RandomizedSearchCV(model, parameters)\n",
        "search = clf.fit(X, y)\n",
        "\n",
        "print(\"Mejores parámetros:\", search.best_params_)\n",
        "print(\"Mejor score:\", search.best_score_)"
      ],
      "metadata": {
        "colab": {
          "base_uri": "https://localhost:8080/"
        },
        "id": "Y_QaPRP_WJJ6",
        "outputId": "057b7587-6bbe-4ef9-9bab-8991c0b916a9"
      },
      "execution_count": 32,
      "outputs": [
        {
          "output_type": "stream",
          "name": "stdout",
          "text": [
            "Mejores parámetros: {'kernel': 'rbf', 'gamma': 'scale', 'C': 50}\n",
            "Mejor score: 0.6514433825516546\n"
          ]
        }
      ]
    },
    {
      "cell_type": "markdown",
      "source": [
        "#Regresion logica\n"
      ],
      "metadata": {
        "id": "9NfUiJzMDzdR"
      }
    },
    {
      "cell_type": "markdown",
      "source": [
        "Decidimos probar esto modelo buscando info en internet debido a que estaba nombrado en las diapositivas y nos parecio interesante"
      ],
      "metadata": {
        "id": "FkTpRM7TD2UC"
      }
    },
    {
      "cell_type": "code",
      "source": [
        "import statsmodels.api as sm  #Importamos librerias del modelo\n",
        "import statsmodels.formula.api as smf"
      ],
      "metadata": {
        "id": "sE8GQFvff0ov"
      },
      "execution_count": 15,
      "outputs": []
    },
    {
      "cell_type": "code",
      "source": [
        "X= df[[\"danceability\", \"speechiness\", \"energy\",\"acousticness\", \"instrumentalness\"]].to_numpy()\n",
        "y= df[['target']].to_numpy()\n",
        "#Trabajamos con los mismos datos\n",
        "X_train, X_test, y_train, y_test= train_test_split(X, y, test_size= 0.6, random_state=53)"
      ],
      "metadata": {
        "id": "xWHaUOUyfYF4"
      },
      "execution_count": 16,
      "outputs": []
    },
    {
      "cell_type": "code",
      "source": [
        "X_train = sm.add_constant(X_train, prepend=True)\n",
        "modelo = sm.Logit(endog=y_train, exog=X_train,)\n",
        "modelo = modelo.fit()     #Entrenamos el modelo"
      ],
      "metadata": {
        "colab": {
          "base_uri": "https://localhost:8080/"
        },
        "id": "m-zOJ3pTfvNw",
        "outputId": "000bc556-b104-427e-8e66-9368fe2154a1"
      },
      "execution_count": 17,
      "outputs": [
        {
          "output_type": "stream",
          "name": "stdout",
          "text": [
            "Optimization terminated successfully.\n",
            "         Current function value: 0.643797\n",
            "         Iterations 5\n"
          ]
        }
      ]
    },
    {
      "cell_type": "code",
      "source": [
        "predicciones = modelo.predict(exog = X_train)\n",
        "\n",
        "clasificacion = np.where(predicciones<0.5, 0, 1) #Esta clasificacion hace que las predicciones, las cuales son resultados de 0 a 1 en relacion a la tendencia de que sea target 0 o 1, sean traspazadas a un nuevo array como enteres 0 o 1"
      ],
      "metadata": {
        "id": "rheVOGOogBAr"
      },
      "execution_count": 18,
      "outputs": []
    },
    {
      "cell_type": "markdown",
      "source": [
        "En cuanto a este modelo tuvimos algunos problemas para ajustarlo para alcanzar valores mas altos, aun si logramos dejarlo con valores alrededor del 60%"
      ],
      "metadata": {
        "id": "F-xb9Bh6YaNC"
      }
    },
    {
      "cell_type": "code",
      "source": [
        "\n",
        "X_test = sm.add_constant(X_test, prepend=True)\n",
        "predicciones = modelo.predict(exog = X_test)\n",
        "clasificacion = np.where(predicciones<0.46, 0, 1) #Modificamos el rango de tendencia debido a que aumentaba la prediccion\n",
        "f1 = f1_score(y_test, clasificacion)\n",
        "recall = recall_score(y_test, clasificacion)\n",
        "accuracy = accuracy_score(\n",
        "            y_true    = y_test,\n",
        "            y_pred    = clasificacion,\n",
        "          normalize = True\n",
        "         )\n",
        "print(f\"El accuracy de test es: {100*accuracy}%\")\n",
        "print(\"Score de F1:\", f1)\n",
        "print(\"Recall score:\", recall)"
      ],
      "metadata": {
        "colab": {
          "base_uri": "https://localhost:8080/"
        },
        "id": "58gd9ETJgEx8",
        "outputId": "0d96658f-7020-4757-8b1c-e328de341cb8"
      },
      "execution_count": 19,
      "outputs": [
        {
          "output_type": "stream",
          "name": "stdout",
          "text": [
            "El accuracy de test es: 60.611065235342686%\n",
            "Score de F1: 0.6505494505494506\n",
            "Recall score: 0.7551020408163265\n"
          ]
        }
      ]
    },
    {
      "cell_type": "code",
      "source": [
        "c = confusion_matrix(y_test, clasificacion)\n",
        "\n",
        "\n",
        "plt.figure(figsize=(7,5))\n",
        "sns.heatmap(c, annot=True, fmt='g', xticklabels=['Clase 0', 'Clase 1'], yticklabels=['Clase 0', 'Clase 1'])\n",
        "plt.xlabel('Etiqueta predicha')\n",
        "plt.ylabel('Etiqueta verdadera')\n",
        "plt.title('Matriz de Confusión Regresión Logica')\n",
        "plt.show()"
      ],
      "metadata": {
        "colab": {
          "base_uri": "https://localhost:8080/",
          "height": 488
        },
        "id": "u_JvXMG7FlUE",
        "outputId": "7035be0f-6223-4b00-b8fb-a625f8db76ba"
      },
      "execution_count": 20,
      "outputs": [
        {
          "output_type": "display_data",
          "data": {
            "text/plain": [
              "<Figure size 700x500 with 2 Axes>"
            ],
            "image/png": "[encoded data removed]"
          },
          "metadata": {}
        }
      ]
    },
    {
      "cell_type": "markdown",
      "source": [
        "#Clasidicador Bayesiano"
      ],
      "metadata": {
        "id": "Bewf1RhFJ-Yh"
      }
    },
    {
      "cell_type": "code",
      "source": [
        "X = df[[\"danceability\", \"speechiness\", \"energy\",\"acousticness\", \"instrumentalness\"]].values\n",
        "y = df['target'].values\n",
        "\n",
        "X_train, X_test, y_train, y_test = train_test_split(X, y, test_size=0.5, random_state=53)"
      ],
      "metadata": {
        "id": "BBKxiJ8cjwMg"
      },
      "execution_count": 21,
      "outputs": []
    },
    {
      "cell_type": "code",
      "source": [
        "from sklearn.preprocessing import MinMaxScaler\n",
        "escaladorX = MinMaxScaler()\n",
        "X_train = escaladorX.fit_transform(X_train.astype('float64'))\n",
        "X_test  = escaladorX.transform(X_test.astype('float64'))\n",
        "X_test[:5,:]"
      ],
      "metadata": {
        "colab": {
          "base_uri": "https://localhost:8080/"
        },
        "id": "1mrSqPKWkAY-",
        "outputId": "77a87323-721c-41ce-c911-bb2b63c38e8e"
      },
      "execution_count": 22,
      "outputs": [
        {
          "output_type": "execute_result",
          "data": {
            "text/plain": [
              "array([[7.70301624e-01, 4.81836529e-02, 5.99551661e-01, 7.81449852e-03,\n",
              "        0.00000000e+00],\n",
              "       [6.67053364e-01, 1.08476287e-02, 6.76992052e-01, 2.95870718e-04,\n",
              "        6.90573770e-03],\n",
              "       [5.99767981e-01, 1.62714430e-02, 8.49195028e-01, 6.64278354e-02,\n",
              "        2.04918033e-02],\n",
              "       [5.81206497e-01, 1.51362260e-02, 8.05380069e-01, 1.56738314e-02,\n",
              "        7.87909836e-02],\n",
              "       [5.29002320e-01, 4.88143290e-02, 8.66517220e-01, 7.04062559e-03,\n",
              "        0.00000000e+00]])"
            ]
          },
          "metadata": {},
          "execution_count": 22
        }
      ]
    },
    {
      "cell_type": "code",
      "source": [
        "from sklearn.naive_bayes import GaussianNB as Bayesiano\n",
        "clasificador = Bayesiano()\n",
        "clasificador.fit(X_train, y_train)"
      ],
      "metadata": {
        "colab": {
          "base_uri": "https://localhost:8080/",
          "height": 75
        },
        "id": "XOvbmKaVkZ2v",
        "outputId": "fc1627fd-31b6-45f5-aa3b-ad9cdf84a193"
      },
      "execution_count": 23,
      "outputs": [
        {
          "output_type": "execute_result",
          "data": {
            "text/plain": [
              "GaussianNB()"
            ],
            "text/html": [
              "<style>#sk-container-id-1 {color: black;background-color: white;}#sk-container-id-1 pre{padding: 0;}#sk-container-id-1 div.sk-toggleable {background-color: white;}#sk-container-id-1 label.sk-toggleable__label {cursor: pointer;display: block;width: 100%;margin-bottom: 0;padding: 0.3em;box-sizing: border-box;text-align: center;}#sk-container-id-1 label.sk-toggleable__label-arrow:before {content: \"▸\";float: left;margin-right: 0.25em;color: #696969;}#sk-container-id-1 label.sk-toggleable__label-arrow:hover:before {color: black;}#sk-container-id-1 div.sk-estimator:hover label.sk-toggleable__label-arrow:before {color: black;}#sk-container-id-1 div.sk-toggleable__content {max-height: 0;max-width: 0;overflow: hidden;text-align: left;background-color: #f0f8ff;}#sk-container-id-1 div.sk-toggleable__content pre {margin: 0.2em;color: black;border-radius: 0.25em;background-color: #f0f8ff;}#sk-container-id-1 input.sk-toggleable__control:checked~div.sk-toggleable__content {max-height: 200px;max-width: 100%;overflow: auto;}#sk-container-id-1 input.sk-toggleable__control:checked~label.sk-toggleable__label-arrow:before {content: \"▾\";}#sk-container-id-1 div.sk-estimator input.sk-toggleable__control:checked~label.sk-toggleable__label {background-color: #d4ebff;}#sk-container-id-1 div.sk-label input.sk-toggleable__control:checked~label.sk-toggleable__label {background-color: #d4ebff;}#sk-container-id-1 input.sk-hidden--visually {border: 0;clip: rect(1px 1px 1px 1px);clip: rect(1px, 1px, 1px, 1px);height: 1px;margin: -1px;overflow: hidden;padding: 0;position: absolute;width: 1px;}#sk-container-id-1 div.sk-estimator {font-family: monospace;background-color: #f0f8ff;border: 1px dotted black;border-radius: 0.25em;box-sizing: border-box;margin-bottom: 0.5em;}#sk-container-id-1 div.sk-estimator:hover {background-color: #d4ebff;}#sk-container-id-1 div.sk-parallel-item::after {content: \"\";width: 100%;border-bottom: 1px solid gray;flex-grow: 1;}#sk-container-id-1 div.sk-label:hover label.sk-toggleable__label {background-color: #d4ebff;}#sk-container-id-1 div.sk-serial::before {content: \"\";position: absolute;border-left: 1px solid gray;box-sizing: border-box;top: 0;bottom: 0;left: 50%;z-index: 0;}#sk-container-id-1 div.sk-serial {display: flex;flex-direction: column;align-items: center;background-color: white;padding-right: 0.2em;padding-left: 0.2em;position: relative;}#sk-container-id-1 div.sk-item {position: relative;z-index: 1;}#sk-container-id-1 div.sk-parallel {display: flex;align-items: stretch;justify-content: center;background-color: white;position: relative;}#sk-container-id-1 div.sk-item::before, #sk-container-id-1 div.sk-parallel-item::before {content: \"\";position: absolute;border-left: 1px solid gray;box-sizing: border-box;top: 0;bottom: 0;left: 50%;z-index: -1;}#sk-container-id-1 div.sk-parallel-item {display: flex;flex-direction: column;z-index: 1;position: relative;background-color: white;}#sk-container-id-1 div.sk-parallel-item:first-child::after {align-self: flex-end;width: 50%;}#sk-container-id-1 div.sk-parallel-item:last-child::after {align-self: flex-start;width: 50%;}#sk-container-id-1 div.sk-parallel-item:only-child::after {width: 0;}#sk-container-id-1 div.sk-dashed-wrapped {border: 1px dashed gray;margin: 0 0.4em 0.5em 0.4em;box-sizing: border-box;padding-bottom: 0.4em;background-color: white;}#sk-container-id-1 div.sk-label label {font-family: monospace;font-weight: bold;display: inline-block;line-height: 1.2em;}#sk-container-id-1 div.sk-label-container {text-align: center;}#sk-container-id-1 div.sk-container {/* jupyter's `normalize.less` sets `[hidden] { display: none; }` but bootstrap.min.css set `[hidden] { display: none !important; }` so we also need the `!important` here to be able to override the default hidden behavior on the sphinx rendered scikit-learn.org. See: https://github.com/scikit-learn/scikit-learn/issues/21755 */display: inline-block !important;position: relative;}#sk-container-id-1 div.sk-text-repr-fallback {display: none;}</style><div id=\"sk-container-id-1\" class=\"sk-top-container\"><div class=\"sk-text-repr-fallback\"><pre>GaussianNB()</pre><b>In a Jupyter environment, please rerun this cell to show the HTML representation or trust the notebook. <br />On GitHub, the HTML representation is unable to render, please try loading this page with nbviewer.org.</b></div><div class=\"sk-container\" hidden><div class=\"sk-item\"><div class=\"sk-estimator sk-toggleable\"><input class=\"sk-toggleable__control sk-hidden--visually\" id=\"sk-estimator-id-1\" type=\"checkbox\" checked><label for=\"sk-estimator-id-1\" class=\"sk-toggleable__label sk-toggleable__label-arrow\">GaussianNB</label><div class=\"sk-toggleable__content\"><pre>GaussianNB()</pre></div></div></div></div></div>"
            ]
          },
          "metadata": {},
          "execution_count": 23
        }
      ]
    },
    {
      "cell_type": "code",
      "source": [
        "predicciones = clasificador.predict(X_test)"
      ],
      "metadata": {
        "id": "3HTW049xkeRI"
      },
      "execution_count": 24,
      "outputs": []
    },
    {
      "cell_type": "markdown",
      "source": [
        "En cuanto a este modelo decidimos agregarlo debido a que nos parecio intereante ya casi llegado al final, intetamos trabajar bastante con el pero nos dio algunos problemas por ende decidimos dejarlo pero solo con los parametros basicos"
      ],
      "metadata": {
        "id": "Gw0bz8YaZmED"
      }
    },
    {
      "cell_type": "code",
      "source": [
        "\n",
        "f1 = f1_score(y_test, predicciones)\n",
        "recall = recall_score(y_test, predicciones)\n",
        "\n",
        "print(\"Accuracy score \", accuracy_score(predicciones, y_test))\n",
        "print(\"Score de F1:\", f1)\n",
        "print(\"Recall score:\", recall)"
      ],
      "metadata": {
        "colab": {
          "base_uri": "https://localhost:8080/"
        },
        "id": "7RMYFspCkh0G",
        "outputId": "ad05dcd5-e70e-4886-c5da-344310bae446"
      },
      "execution_count": 25,
      "outputs": [
        {
          "output_type": "stream",
          "name": "stdout",
          "text": [
            "Accuracy using {}: 0.6204162537165511\n",
            "Score de F1: 0.6456984273820536\n",
            "Recall score: 0.7137014314928425\n"
          ]
        }
      ]
    },
    {
      "cell_type": "code",
      "source": [
        "c = confusion_matrix(y_test, predicciones)\n",
        "\n",
        "\n",
        "plt.figure(figsize=(7,5))\n",
        "sns.heatmap(c, annot=True, fmt='g', xticklabels=['Clase 0', 'Clase 1'], yticklabels=['Clase 0', 'Clase 1'])\n",
        "plt.xlabel('Etiqueta predicha')\n",
        "plt.ylabel('Etiqueta verdadera')\n",
        "plt.title('Matriz de Confusión Bayesiana')\n",
        "plt.show()"
      ],
      "metadata": {
        "colab": {
          "base_uri": "https://localhost:8080/",
          "height": 488
        },
        "id": "m_Cj7CmDK_Vy",
        "outputId": "9be6ce0e-8b7d-416f-e437-a02cba7b981c"
      },
      "execution_count": 26,
      "outputs": [
        {
          "output_type": "display_data",
          "data": {
            "text/plain": [
              "<Figure size 700x500 with 2 Axes>"
            ],
            "image/png": "[encoded data removed]"
          },
          "metadata": {}
        }
      ]
    },
    {
      "cell_type": "markdown",
      "source": [
        "#Votación mayoritaria"
      ],
      "metadata": {
        "id": "DnXnxcihbk4E"
      }
    },
    {
      "cell_type": "code",
      "source": [
        "X = df[[\"danceability\", \"speechiness\", \"energy\",\"acousticness\", \"instrumentalness\"]].values\n",
        "y = df['target'].values\n",
        "\n",
        "X_train, X_test, y_train, y_test = train_test_split(X, y, test_size=0.5, random_state=53)"
      ],
      "metadata": {
        "id": "x2dB_QDFcNpy"
      },
      "execution_count": 27,
      "outputs": []
    },
    {
      "cell_type": "markdown",
      "source": [
        "Para hacer la votación mayoritaria los que nosotros pensamos era usar los 3 modelos los cuales nos dieron mayor porcentaje de acierto"
      ],
      "metadata": {
        "id": "aTM8s897Z66w"
      }
    },
    {
      "cell_type": "code",
      "source": [
        "clasificadorKNN2 = generate_clf_KNN(90,X_train, y_train)\n",
        "\n",
        "y_predKNN = clasificadorKNN2.predict(X_test)\n",
        "\n",
        "model = SVC(kernel=\"rbf\", C = 90)\n",
        "model.fit(X_train, y_train)\n",
        "predSVC = model.predict(X_test)\n",
        "\n",
        "clasificador = Bayesiano()\n",
        "clasificador.fit(X_train, y_train)\n",
        "predicciones = clasificador.predict(X_test)"
      ],
      "metadata": {
        "id": "Wu4-b1RzcjMK"
      },
      "execution_count": 28,
      "outputs": []
    },
    {
      "cell_type": "markdown",
      "source": [
        "Para la realización de las predicciones decidimos crear una lista la cual la iremos rellenando al recorr el ciclo for donde don modelos coincidad en la predicción"
      ],
      "metadata": {
        "id": "dUvQ23e3aF_T"
      }
    },
    {
      "cell_type": "code",
      "source": [
        "predicFinal = []\n",
        "for i in range(len(predicciones) ):\n",
        "  if y_predKNN[i] == predSVC[i]:\n",
        "    predicFinal.append(y_predKNN[i])\n",
        "  elif predicciones[i] == y_predKNN[i]:\n",
        "    predicFinal.append(predicciones[i])\n",
        "  elif predicciones[i] == predSVC[i]:\n",
        "    predicFinal.append(predicciones[i])\n",
        "\n",
        "f1 = f1_score(y_test, predicFinal)\n",
        "recall = recall_score(y_test, predicFinal)\n",
        "\n",
        "print(\"Accuracy using {}:\", accuracy_score(predicFinal, y_test)) #Realizamos el score de la votacion mayoritaria usando los 3 con mayores predicción\n",
        "print(\"Score de F1:\", f1)\n",
        "print(\"Recall score:\", recall)"
      ],
      "metadata": {
        "colab": {
          "base_uri": "https://localhost:8080/"
        },
        "id": "MMPtZvJ5Os61",
        "outputId": "f54c0b94-ed36-4433-c5f9-82a98aebc215"
      },
      "execution_count": 29,
      "outputs": [
        {
          "output_type": "stream",
          "name": "stdout",
          "text": [
            "Accuracy using {}: 0.7026759167492567\n",
            "Score de F1: 0.6703296703296703\n",
            "Recall score: 0.623721881390593\n"
          ]
        }
      ]
    },
    {
      "cell_type": "code",
      "source": [
        "c = confusion_matrix(y_test, predicFinal)\n",
        "\n",
        "\n",
        "plt.figure(figsize=(7,5))\n",
        "sns.heatmap(c, annot=True, fmt='g', xticklabels=['Clase 0', 'Clase 1'], yticklabels=['Clase 0', 'Clase 1'])\n",
        "plt.xlabel('Etiqueta predicha')\n",
        "plt.ylabel('Etiqueta verdadera')\n",
        "plt.title('Matriz de Confusión de Votación Mayoritaria')\n",
        "plt.show()"
      ],
      "metadata": {
        "colab": {
          "base_uri": "https://localhost:8080/",
          "height": 488
        },
        "id": "VfKwoBWOdmkK",
        "outputId": "76cd7c27-84b3-4519-ceca-69e487b0c1b3"
      },
      "execution_count": 30,
      "outputs": [
        {
          "output_type": "display_data",
          "data": {
            "text/plain": [
              "<Figure size 700x500 with 2 Axes>"
            ],
            "image/png": "[encoded data removed]"
          },
          "metadata": {}
        }
      ]
    },
    {
      "cell_type": "code",
      "source": [
        "from sklearn.ensemble import VotingClassifier\n"
      ],
      "metadata": {
        "id": "Csd7HI8Ga5_E"
      },
      "execution_count": 33,
      "outputs": []
    },
    {
      "cell_type": "markdown",
      "source": [
        "Tambien decidimos usar el VotingClassifier de la propia libreria de sklearn pero nos termino dando los mismos resultados"
      ],
      "metadata": {
        "id": "b_AWKpLWb_og"
      }
    },
    {
      "cell_type": "code",
      "source": [
        "clf1 = KNeighborsClassifier(n_neighbors=90)\n",
        "clf2 = Bayesiano()\n",
        "clf3 = SVC(kernel=\"rbf\", C = 90)\n",
        "\n",
        "voting_classifier = VotingClassifier(estimators=[('clf1', clf1), ('clf2', clf2), ('clf3', clf3)], voting='hard')\n",
        "\n",
        "voting_classifier.fit(X_train, y_train)\n",
        "\n",
        "y_pred = voting_classifier.predict(X_test)\n",
        "\n",
        "accuracy = accuracy_score(y_test, y_pred)\n",
        "accuracy"
      ],
      "metadata": {
        "colab": {
          "base_uri": "https://localhost:8080/"
        },
        "id": "uVIy6shQa2Hx",
        "outputId": "c24ff52b-a82a-446e-c858-c3c52e00ea1f"
      },
      "execution_count": 44,
      "outputs": [
        {
          "output_type": "execute_result",
          "data": {
            "text/plain": [
              "0.7026759167492567"
            ]
          },
          "metadata": {},
          "execution_count": 44
        }
      ]
    }
  ]
}